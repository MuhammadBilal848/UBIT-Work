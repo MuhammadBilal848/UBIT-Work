{
 "cells": [
  {
   "cell_type": "markdown",
   "metadata": {},
   "source": [
    "# Matrix Formation , addition and multiplication"
   ]
  },
  {
   "cell_type": "code",
   "execution_count": 249,
   "metadata": {
    "scrolled": false
   },
   "outputs": [
    {
     "name": "stdout",
     "output_type": "stream",
     "text": [
      "Enter no of rows for A: 2\n",
      "Enter no of columns for A: 2\n",
      "Enter no of rows for B: 2\n",
      "Enter no of columns for B: 2\n",
      "Enter values for matrix A: 1\n",
      "Enter values for matrix A: 2\n",
      "Enter values for matrix A: 3\n",
      "Enter values for matrix A: 4\n",
      "[[1.0, 2.0], [3.0, 4.0]]\n",
      "Enter values for matrix B: 5\n",
      "Enter values for matrix B: 6\n",
      "Enter values for matrix B: 7\n",
      "Enter values for matrix B: 8\n",
      "[[5.0, 6.0], [7.0, 8.0]]\n",
      "Sum of matrices is : [[6.0, 8.0], [10.0, 12.0]]\n",
      "Sum of matrices is :[[6.0, 8.0], [10.0, 12.0]]\n"
     ]
    }
   ],
   "source": [
    "norA = int(input('Enter no of rows for A: '))\n",
    "nocA = int(input('Enter no of columns for A: '))\n",
    "\n",
    "norB = int(input('Enter no of rows for B: '))\n",
    "nocB = int(input('Enter no of columns for B: '))\n",
    "\n",
    "\n",
    "M1 = list()\n",
    "for a in range(norA): # nor = 2 (0,1,2)\n",
    "    A = list()\n",
    "    for b in range(nocA): # noc = 3 (0,1,2,3) \n",
    "        e = float(input(\"Enter values for matrix A: \")) # e = 0\n",
    "        A.append(e)\n",
    "    M1.append(A)    \n",
    "print(M1)\n",
    "\n",
    "\n",
    "\n",
    "M2 = list()\n",
    "for a in range(norB): # nor = 2 (0,1,2)\n",
    "    B = list()\n",
    "    for b in range(nocB): # noc = 3 (0,1,2,3) \n",
    "        e = float(input(\"Enter values for matrix B: \")) # e = 0\n",
    "        B.append(e)\n",
    "    M2.append(B)    \n",
    "print(M2)\n",
    "\n",
    "# rule for addition of matrices is that the order must be same .\n",
    "\n",
    "# using for loop for addition of matrices\n",
    "\n",
    "if (norA==norB) and (nocA==nocB):\n",
    "    Sum  = list()\n",
    "    for i in range(len(M1)):\n",
    "        s = list()\n",
    "        for j in range(len(M2[0])):\n",
    "            s.append(M1[i][j]+M2[i][j])\n",
    "        Sum.append(s)\n",
    "    print('Sum of matrices is :' , Sum)\n",
    "\n",
    "else:\n",
    "    print('Order is incorrect!')\n",
    "\n",
    "# using while loop for addition of matrices\n",
    "\n",
    "if (norA==norB) and (nocA==nocB):\n",
    "    Sum = list()\n",
    "    i = 0\n",
    "    while i<(len(M1)):\n",
    "        s = list()\n",
    "        j = 0\n",
    "        while j<(len(M2[0])):\n",
    "            s.append(M1[i][j]+M2[i][j])\n",
    "            j += 1\n",
    "        Sum.append(s)\n",
    "        i += 1\n",
    "    print(f'Sum of matrices is :{Sum}')\n",
    "else:\n",
    "    print('Order is incorrect!')\n",
    "\n",
    "# matrix multiplication using for loop\n",
    "\n",
    "A = [[1.0, 2.0, 3.0], [4.0, 5.0, 6.0]] \n",
    "B =[[7.0, 8.0], [9.0, 10.0], [11.0, 12.0]]\n",
    "\n",
    "Product = list()\n",
    "for f in range(len(A)):\n",
    "    p = list()\n",
    "    for s in range(len(B[0])):\n",
    "        p1 = list()\n",
    "        for t in range(len(B)):\n",
    "            p1.append(A[f][t]*B[t][s])\n",
    "        p.append(sum(p1))\n",
    "    Product.append(p)\n",
    "\n",
    "print(Product)\n",
    "\n",
    "\n",
    "# matrix multiplication using while loop\n",
    "\n",
    "Product = list()\n",
    "f = 0\n",
    "while f<len(A): # 2\n",
    "    p = list()\n",
    "    s = 0\n",
    "    while s<len(B[0]): # 2\n",
    "        p1 = list()\n",
    "        t = 0\n",
    "        while t<len(B): # 3\n",
    "            p1.append(A[f][t]*B[t][s])\n",
    "            t += 1            \n",
    "        p.append(sum(p1))\n",
    "        s += 1\n",
    "    Product.append(p)\n",
    "    f += 1\n",
    "print(Product)\n"
   ]
  },
  {
   "cell_type": "markdown",
   "metadata": {},
   "source": [
    "# Using functions for Matrix formation, addition and mulitplication"
   ]
  },
  {
   "cell_type": "code",
   "execution_count": 27,
   "metadata": {},
   "outputs": [
    {
     "name": "stdout",
     "output_type": "stream",
     "text": [
      "Enter no of rows: 3\n",
      "Enter no of columns: 3\n",
      "Enter values for matrix A: 1\n",
      "Enter values for matrix A: 2\n",
      "Enter values for matrix A: 3\n",
      "Enter values for matrix A: 4\n",
      "Enter values for matrix A: 5\n",
      "Enter values for matrix A: 6\n",
      "Enter values for matrix A: 7\n",
      "Enter values for matrix A: 8\n",
      "Enter values for matrix A: 9\n",
      "[[1.0, 2.0, 3.0], [4.0, 5.0, 6.0], [7.0, 8.0, 9.0]]\n"
     ]
    }
   ],
   "source": [
    "def nor_noc():\n",
    "    '''Take no of rows(nor) and no of columns(noc) and return nor and noc'''\n",
    "    nor = int(input('Enter no of rows: '))\n",
    "    noc = int(input('Enter no of columns: '))\n",
    "    return nor,noc\n",
    "\n",
    "def Make_Matrix(nor,noc,matrix_name):\n",
    "    '''Return a matrix of norxnoc and prompts for the values of matrix'''\n",
    "    M = list()\n",
    "    for a in range(nor): \n",
    "        A = list()\n",
    "        for b in range(noc): \n",
    "            e = float(input(f\"Enter values for matrix {matrix_name}: \"))\n",
    "            A.append(e)\n",
    "        M.append(A)    \n",
    "    return M\n",
    " \n",
    "def Sum_of_matrices(first_matrix,second_matrix):\n",
    "    '''Add two matrices'''\n",
    "    if (len(first_matrix)==len(second_matrix)) and (len(first_matrix[0])==(len(second_matrix[0]))):\n",
    "        Sum  = list()\n",
    "        for i in range(len(first_matrix)):\n",
    "            s = list()\n",
    "            for j in range(len(second_matrix[0])):\n",
    "                s.append(first_matrix[i][j]+second_matrix[i][j])\n",
    "            Sum.append(s)\n",
    "        return f'Sum of matices is : {Sum}'\n",
    "    else:\n",
    "        return 'Addition is not possible'\n",
    "\n",
    "def Subt_of_matrices(first_matrix,second_matrix):\n",
    "    '''Subtract two matrices'''\n",
    "    if (len(first_matrix)==len(second_matrix)) and (len(first_matrix[0])==(len(second_matrix[0]))):\n",
    "        Sub  = list()\n",
    "        for i in range(len(first_matrix)):\n",
    "            s = list()\n",
    "            for j in range(len(second_matrix[0])):\n",
    "                s.append(first_matrix[i][j]-second_matrix[i][j])\n",
    "            Sub.append(s)\n",
    "        return f'Subtraction of matices is : {Sub}'\n",
    "    else:\n",
    "        return 'Subtraction is not possible' \n",
    "\n",
    "    \n",
    "def Prod_of_matrices(first_matrix,second_matrix):\n",
    "    '''Multiply two matrices'''\n",
    "    if (len(first_matrix[0]) == len(second_matrix)):\n",
    "        Product = list()\n",
    "        for f in range(len(first_matrix)):\n",
    "            p = list()\n",
    "            for s in range(len(second_matrix[0])):\n",
    "                p1 = list()\n",
    "                for t in range(len(second_matrix)):\n",
    "                    p1.append(A[f][t]*B[t][s])\n",
    "                p.append(sum(p1))\n",
    "            Product.append(p)\n",
    "        return f'Multiplication of matices is : {Product}'\n",
    "    else:\n",
    "        return 'Multiplication is not possible'\n",
    "    \n",
    "    \n",
    "    \n",
    "\n",
    "nor,noc = nor_noc()\n",
    "A = Make_Matrix(nor,noc,'A')\n",
    "print(A)\n",
    "nor,noc = nor_noc()\n",
    "B = Make_Matrix(nor,noc,'B')\n",
    "print(B)\n",
    "print(Sum_of_matrices(A,B))\n",
    "print(Prod_of_matrices(A,B))\n",
    "print(Subt_of_matrices(A,B))\n"
   ]
  },
  {
   "cell_type": "markdown",
   "metadata": {},
   "source": [
    "# Elementry Row Operation"
   ]
  },
  {
   "cell_type": "markdown",
   "metadata": {},
   "source": [
    "## Interchange Two Rows"
   ]
  },
  {
   "cell_type": "code",
   "execution_count": 28,
   "metadata": {},
   "outputs": [
    {
     "name": "stdout",
     "output_type": "stream",
     "text": [
      "Enter no of rows: 4\n",
      "Enter no of columns: 4\n",
      "Enter values for matrix A: 1\n",
      "Enter values for matrix A: 2\n",
      "Enter values for matrix A: 3\n",
      "Enter values for matrix A: 4\n",
      "Enter values for matrix A: 5\n",
      "Enter values for matrix A: 6\n",
      "Enter values for matrix A: 7\n",
      "Enter values for matrix A: 8\n",
      "Enter values for matrix A: 9\n",
      "Enter values for matrix A: 10\n",
      "Enter values for matrix A: 11\n",
      "Enter values for matrix A: 12\n",
      "Enter values for matrix A: 13\n",
      "Enter values for matrix A: 14\n",
      "Enter values for matrix A: 15\n",
      "Enter values for matrix A: 16\n",
      "[[1.0, 2.0, 3.0, 4.0], [5.0, 6.0, 7.0, 8.0], [9.0, 10.0, 11.0, 12.0], [13.0, 14.0, 15.0, 16.0]]\n",
      "[[1.0, 2.0, 3.0, 4.0], [13.0, 14.0, 15.0, 16.0], [9.0, 10.0, 11.0, 12.0], [5.0, 6.0, 7.0, 8.0]]\n"
     ]
    }
   ],
   "source": [
    "nor,noc = nor_noc()\n",
    "A = Make_Matrix(nor,noc,'A')\n",
    "print(A)\n",
    "\n",
    "def interchange(Matrix,rowI,rowJ):\n",
    "    Matrix[rowI],Matrix[rowJ]=Matrix[rowJ],Matrix[rowI]\n",
    "    return Matrix\n",
    "\n",
    "print(interchange(A,3,1))\n"
   ]
  },
  {
   "cell_type": "markdown",
   "metadata": {},
   "source": [
    "## Multiply Each Element of a Row with a Constant"
   ]
  },
  {
   "cell_type": "code",
   "execution_count": 229,
   "metadata": {},
   "outputs": [
    {
     "name": "stdout",
     "output_type": "stream",
     "text": [
      "Enter no of rows: 3\n",
      "Enter no of columns: 3\n",
      "Enter values for matrix A: 1\n",
      "Enter values for matrix A: 2\n",
      "Enter values for matrix A: 3\n",
      "Enter values for matrix A: 4\n",
      "Enter values for matrix A: 5\n",
      "Enter values for matrix A: 6\n",
      "Enter values for matrix A: 7\n",
      "Enter values for matrix A: 8\n",
      "Enter values for matrix A: 9\n",
      "[[1.0, 2.0, 3.0], [4.0, 5.0, 6.0], [7.0, 8.0, 9.0]]\n",
      "[[1.0, 2.0, 3.0], [40.0, 50.0, 60.0], [7.0, 8.0, 9.0]]\n"
     ]
    }
   ],
   "source": [
    "nor,noc = nor_noc()\n",
    "A = Make_Matrix(nor,noc,'A')\n",
    "print(A)\n",
    "\n",
    "def const_multiple(Matrix,rowI,constant):\n",
    "    for a in range(len(Matrix[0])):\n",
    "        Matrix[rowI][a] = Matrix[rowI][a]*constant\n",
    "    return Matrix\n",
    "    \n",
    "print(const_multiple(A,1,10))"
   ]
  },
  {
   "cell_type": "markdown",
   "metadata": {},
   "source": [
    "## Subtract a Row From (Constant Multiple of Another Row)"
   ]
  },
  {
   "cell_type": "code",
   "execution_count": 135,
   "metadata": {
    "collapsed": true
   },
   "outputs": [
    {
     "name": "stdout",
     "output_type": "stream",
     "text": [
      "Enter no of rows: 3\n",
      "Enter no of columns: 3\n",
      "Enter values for matrix A: 1\n",
      "Enter values for matrix A: 2\n",
      "Enter values for matrix A: 3\n",
      "Enter values for matrix A: 4\n",
      "Enter values for matrix A: 5\n",
      "Enter values for matrix A: 6\n",
      "Enter values for matrix A: 7\n",
      "Enter values for matrix A: 8\n",
      "Enter values for matrix A: 9\n",
      "[[1.0, 2.0, 3.0], [4.0, 5.0, 6.0], [7.0, 8.0, 9.0]]\n",
      "[[-20.0, -22.0, -24.0], [4.0, 5.0, 6.0], [21.0, 24.0, 27.0]]\n",
      "Enter no of rows: 4\n",
      "Enter no of columns: 4\n",
      "Enter values for matrix B: 1\n",
      "Enter values for matrix B: 2\n",
      "Enter values for matrix B: 3\n",
      "Enter values for matrix B: 4\n",
      "Enter values for matrix B: 5\n",
      "Enter values for matrix B: 6\n",
      "Enter values for matrix B: 7\n",
      "Enter values for matrix B: 8\n",
      "Enter values for matrix B: 9\n",
      "Enter values for matrix B: 10\n",
      "Enter values for matrix B: 11\n",
      "Enter values for matrix B: 13\n",
      "Enter values for matrix B: 14\n",
      "Enter values for matrix B: 115\n",
      "Enter values for matrix B: 16\n",
      "Enter values for matrix B: 17\n",
      "[[1.0, 2.0, 3.0, 4.0], [5.0, 6.0, 7.0, 8.0], [9.0, 10.0, 11.0, 13.0], [14.0, 115.0, 16.0, 17.0]]\n",
      "[[-26.0, -28.0, -30.0, -35.0], [5.0, 6.0, 7.0, 8.0], [27.0, 30.0, 33.0, 39.0], [14.0, 115.0, 16.0, 17.0]]\n"
     ]
    }
   ],
   "source": [
    "nor,noc = nor_noc()\n",
    "A = Make_Matrix(nor,noc,'A')\n",
    "print(A)\n",
    "\n",
    "def rI_Minus_constJ(Matrix,rI,constant,rJ):\n",
    "    for a in range(len(Matrix[0])):\n",
    "        Matrix[rJ][a] = Matrix[rJ][a]*constant\n",
    "        Matrix[rI][a] = Matrix[rI][a]-Matrix[rJ][a] \n",
    "    return Matrix\n",
    "    \n",
    "a1 = rI_Minus_constJ(A,0,3,2)\n",
    "print(a1)\n",
    "\n",
    "nor,noc = nor_noc()\n",
    "B = Make_Matrix(nor,noc,'B')\n",
    "print(B)\n",
    "\n",
    "a2 = rI_Minus_constJ(B,0,3,2)\n",
    "print(a2)\n"
   ]
  },
  {
   "cell_type": "markdown",
   "metadata": {},
   "source": [
    "# Magic Square"
   ]
  },
  {
   "cell_type": "code",
   "execution_count": null,
   "metadata": {},
   "outputs": [],
   "source": [
    "##### only for 3x3 matrix\n",
    "\n",
    "nor,noc = nor_noc()\n",
    "A = Make_Matrix(nor,noc,'A')\n",
    "print(A)\n",
    "\n",
    "def isMagicSquare(Matrix):\n",
    "    '''Return boolean values if the given matrix is sqaure'''\n",
    "    if len(Matrix)==len(Matrix[0]):\n",
    "\n",
    "        # for rows\n",
    "\n",
    "        p = set()\n",
    "        for a in range(len(Matrix)):\n",
    "            i = 0\n",
    "            for b in range(len(Matrix[0])):\n",
    "                i += Matrix[a][b]\n",
    "            p.add(i)\n",
    "        print(p)\n",
    "\n",
    "        # for columns\n",
    "\n",
    "        p1 = set()\n",
    "        for a in range(len(Matrix)):\n",
    "            i1 = 0\n",
    "            for b in range(len(Matrix[0])):\n",
    "                i1 += Matrix[b][a]\n",
    "            p1.add(i1)\n",
    "        print(p1)\n",
    "\n",
    "        # for diagonal from left\n",
    "\n",
    "        p2 = set()\n",
    "        i2 = 0\n",
    "        for a in range(len(Matrix)):\n",
    "            i2 += Matrix[a][a]\n",
    "        p2.add(i2)\n",
    "        print(p2)\n",
    "\n",
    "        # for diagonal from right\n",
    "\n",
    "        p3 = set()\n",
    "        i3 = 0\n",
    "        n = 1\n",
    "        for a in range(len(Matrix)):\n",
    "            i3 += Matrix[a][a-n]    \n",
    "            n -= -2\n",
    "        p3.add(i3)\n",
    "        print(p3)\n",
    "\n",
    "        if (p.pop()==p1.pop()==p2.pop()==p3.pop()):\n",
    "            return 'Yes, the square matrix is a magic square'\n",
    "        else:\n",
    "            return 'No, the square matrix is not a magic matrix'\n",
    "        \n",
    "print(isMagicSquare(A))\n"
   ]
  },
  {
   "cell_type": "markdown",
   "metadata": {},
   "source": [
    "# Reading a File that contains Matrix"
   ]
  },
  {
   "cell_type": "code",
   "execution_count": 11,
   "metadata": {},
   "outputs": [
    {
     "name": "stdout",
     "output_type": "stream",
     "text": [
      "[[2, 7, 6], [9, 5, 1], [4, 3, 8]]\n",
      "{15}\n",
      "{15}\n",
      "{15}\n",
      "{15}\n"
     ]
    },
    {
     "data": {
      "text/plain": [
       "'Yes, the square matrix is a magic square'"
      ]
     },
     "execution_count": 11,
     "metadata": {},
     "output_type": "execute_result"
    }
   ],
   "source": [
    "f = open('Magic Square.txt','r')\n",
    "A = list()\n",
    "\n",
    "o = len(f.readlines())\n",
    "f.seek(0)\n",
    "for i in range(o):\n",
    "    e = map(int, f.readline().split())\n",
    "    l = [a for a in e]\n",
    "    A.append(l)\n",
    "print(A)\n",
    "isMagicSquare(A)\n"
   ]
  },
  {
   "cell_type": "code",
   "execution_count": null,
   "metadata": {},
   "outputs": [],
   "source": []
  },
  {
   "cell_type": "code",
   "execution_count": null,
   "metadata": {},
   "outputs": [],
   "source": []
  },
  {
   "cell_type": "code",
   "execution_count": null,
   "metadata": {},
   "outputs": [],
   "source": []
  },
  {
   "cell_type": "code",
   "execution_count": null,
   "metadata": {},
   "outputs": [],
   "source": []
  },
  {
   "cell_type": "code",
   "execution_count": null,
   "metadata": {},
   "outputs": [],
   "source": []
  },
  {
   "cell_type": "code",
   "execution_count": 37,
   "metadata": {},
   "outputs": [
    {
     "name": "stdout",
     "output_type": "stream",
     "text": [
      "Enter a value for matrix: 1\n",
      "Enter a value for matrix: 2\n",
      "Enter a value for matrix: 3\n",
      "Enter a value for matrix: 4\n",
      "Enter a value for matrix: 5\n",
      "Enter a value for matrix: 6\n",
      "Enter a value for matrix: 7\n",
      "Enter a value for matrix: 8\n",
      "Enter a value for matrix: 9\n",
      "Enter a value for matrix: 10\n",
      "Enter a value for matrix: 11\n",
      "Enter a value for matrix: 12\n",
      "[[1.0, 2.0, 3.0], [4.0, 5.0, 6.0]]\n",
      "[[7.0, 8.0, 9.0], [10.0, 11.0, 12.0]]\n",
      "# using for loop , for adding and multiplying matrices\n",
      "Sum of you matrices is [[8.0, 10.0, 12.0], [14.0, 16.0, 18.0]]\n",
      "Product of you matrices is [[7.0, 16.0, 27.0], [40.0, 55.0, 72.0]]\n",
      "# using while loop , for adding and multiplying matrices\n",
      "Product of you matrices is [[8.0, 10.0, 12.0], [14.0, 16.0, 18.0]]\n",
      "Product of you matrices is [[7.0, 16.0, 27.0], [40.0, 55.0, 72.0]]\n"
     ]
    }
   ],
   "source": [
    "nor = 2 \n",
    "noc = 3\n",
    "r = 0\n",
    "\n",
    "# for first matrix \n",
    "A = list()\n",
    "while (r<nor):\n",
    "    R = list()\n",
    "    c = 0\n",
    "    while (c<noc):\n",
    "        a = float(input('Enter a value for matrix: '))\n",
    "        R.append(a)\n",
    "        c += 1\n",
    "    A.append(R)\n",
    "    r += 1\n",
    "\n",
    "\n",
    "r = 0\n",
    "# for second matrix \n",
    "B = list()\n",
    "while (r<nor):\n",
    "    R = list()\n",
    "    c = 0\n",
    "    while (c<noc):\n",
    "        a = float(input('Enter a value for matrix: '))\n",
    "        R.append(a)\n",
    "        c += 1\n",
    "    B.append(R)\n",
    "    r += 1\n",
    "\n",
    "print(A)\n",
    "print(B)\n",
    "    \n",
    "\n",
    "\n"
   ]
  },
  {
   "cell_type": "code",
   "execution_count": 271,
   "metadata": {},
   "outputs": [],
   "source": [
    "[ 0    0      0    0            0    0     0    1 ]\n",
    "[ 0    1   x  1    0            0    1  x  1    1 ]\n",
    "[ 0    2      2    0            0    2     2    1 ]\n",
    "[                                                 ]\n",
    "[                                                 ]\n",
    "[                                                 ]\n",
    "[ 1    0      0    0            1    0     0    1 ]\n",
    "[ 1    1   x  1    0            1    1  x  1    1 ]\n",
    "[ 1    2      2    0            1    2     2    1 ]\n"
   ]
  },
  {
   "cell_type": "code",
   "execution_count": 7,
   "metadata": {
    "scrolled": true
   },
   "outputs": [
    {
     "name": "stdout",
     "output_type": "stream",
     "text": [
      "0 0           0 0\n",
      "0 1           1 0\n",
      "0 2           2 0\n",
      "\n",
      "1 0           0 1\n",
      "1 1           1 1\n",
      "1 2           2 1\n",
      "\n"
     ]
    }
   ],
   "source": [
    "for a in range(2):\n",
    "    for b in range(3):\n",
    "        for c in range(3):\n",
    "        print(a,b,'         ',b,a)\n",
    "    print()"
   ]
  },
  {
   "cell_type": "code",
   "execution_count": null,
   "metadata": {},
   "outputs": [],
   "source": [
    "# [ 0    0      0    0            0    0     0    1 ]              \n",
    "# [ 0    1   x  1    0            0    1  x  1    1 ]                \n",
    "# [ 0    2      2    0            0    2     2    1 ]            \n",
    "# [                                                 ]                                          \n",
    "# [                                                 ]  \n",
    "# [                                                 ]                                        \n",
    "# [ 1    0      0    0            1    0     0    1 ]                \n",
    "# [ 1    1   x  1    0            1    1  x  1    1 ]              \n",
    "# [ 1    2      2    0            1    2     2    1 ]       \n",
    "\n",
    "\n",
    "\n",
    "\n",
    "\n",
    "# [ 0    0      0    0            0    0     0    1 ]     [   1   7  = 7          1   8  = 8    ]           \n",
    "# [ 0    1   x  1    0            0    1  x  1    1 ]     [   2 x 9  = 18         2 x 10 = 20   ]           \n",
    "# [ 0    2      2    0            0    2     2    1 ]     [   3   11 = 33         3   12 = 36   ]            \n",
    "# [                                                 ]     [                                     ]     \n",
    "# [                                                 ]  =  [                                     ]  \n",
    "# [                                                 ]     [                                     ]   \n",
    "# [ 1    0      0    0            1    0     0    1 ]     [   4   7  = 28         4   8  = 32   ]           \n",
    "# [ 1    1   x  1    0            1    1  x  1    1 ]     [   5 x 9  = 45         5 x 10 = 50   ]         \n",
    "# [ 1    2      2    0            1    2     2    1 ]     [   6   11 = 66         6   12 = 72   ]       \n",
    "\n",
    "\n",
    "\n",
    "\n",
    "# [ 0    0      0    0            0    0     0    1 ]     [   1   7  = 7          1   8  = 8    ]           \n",
    "# [ 0    1   x  1    0            0    1  x  1    1 ]     [   2 x 9  = 18         2 x 10 = 20   ]           \n",
    "# [ 0    2      2    0            0    2     2    1 ]     [   3   11 = 33         3   12 = 36   ]            \n",
    "# [                                                 ]     [                                     ]     [ 58       64   ]   \n",
    "# [                                                 ]  =  [                                     ]  =  [               ]       \n",
    "# [                                                 ]     [                                     ]     [ 139      154  ]   \n",
    "# [ 1    0      0    0            1    0     0    1 ]     [   4   7  = 28         4   8  = 32   ]           \n",
    "# [ 1    1   x  1    0            1    1  x  1    1 ]     [   5 x 9  = 45         5 x 10 = 50   ]         \n",
    "# [ 1    2      2    0            1    2     2    1 ]     [   6   11 = 66         6   12 = 72   ]       \n",
    "\n",
    "\n",
    "\n",
    "\n"
   ]
  },
  {
   "cell_type": "code",
   "execution_count": null,
   "metadata": {},
   "outputs": [],
   "source": []
  }
 ],
 "metadata": {
  "kernelspec": {
   "display_name": "Python 3",
   "language": "python",
   "name": "python3"
  },
  "language_info": {
   "codemirror_mode": {
    "name": "ipython",
    "version": 3
   },
   "file_extension": ".py",
   "mimetype": "text/x-python",
   "name": "python",
   "nbconvert_exporter": "python",
   "pygments_lexer": "ipython3",
   "version": "3.7.1"
  }
 },
 "nbformat": 4,
 "nbformat_minor": 2
}
