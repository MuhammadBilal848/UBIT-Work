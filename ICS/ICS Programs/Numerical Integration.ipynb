{
 "cells": [
  {
   "cell_type": "markdown",
   "metadata": {},
   "source": [
    "\n",
    "# Area Under the Curve\n",
    "* **1)** input up_limit # upper limit\n",
    "* input lo_limit # lower limit\n",
    "* input n_trapeziod # no of trapezoid\n",
    "* h = (up_limit - lo_limit)/n_trapezoid\n",
    "* ifx_sum = 0\n",
    "* for a in range(0,n_trapezoid+1): {1 \n",
    "* if a==0:{2         \n",
    "* x =               \n",
    "* fx = x^2 + 3x - 10 \n",
    "* ifx_sum += ifx     } 2        \n",
    "* else:{3                                  \n",
    "* x = lo_limit                             \n",
    "* fx = x^2 + 3x - 10\n",
    "* ifx_sum += (2*ifx)                            \n",
    "       3}                                \n",
    "                    }1              \n",
    "* AOT = (h/2) * (ifx_sum)  \n",
    "* print(AOT)\n",
    "\n",
    "## Area of Trapezoid = h/2 * ( fx0 + ...... +fx(n) ) , where h = (x1-x0)/n\n",
    "### For n = 2\n",
    "* Area of Trapezoid = h/2 * { (fx0 + fx1) + (fx1 + fx2) }\n",
    "* Area of Trapezoid = h/2 * { fx0 + 2fx1 + fx2 }\n",
    "### For n = 4\n",
    "* Area of Trapezoid = h/2 * { (fx0 + fx1) + (fx1 + fx2) + (fx2 + fx3) + (fx3 + fx4) }\n",
    "* Area of Trapezoid = h/2 * { fx0 + 2fx1 + 2fx2 + 2fx3 + fx4 }\n",
    "### For n = 6\n",
    "* Area of Trapezoid = h/2 * { (fx0 + fx1) + (fx1 + fx2) + (fx2 + fx3) + (fx3 + fx4) + (fx4 + fx5) + (fx5 + fx6) }\n",
    "* Area of Trapezoid = h/2 * { fx0 + 2fx1 + 2fx2 + 2fx3 + 2fx4 + 2fx5 + fx6 }\n",
    "### For n = 8\n",
    "* Area of Trapezoid = h/2 * { (fx0+fx1)+(fx1+fx2)+(fx2+fx3)+(fx3+fx4)+(fx4+fx5)+(fx5+fx6)+(fx6+fx7)+(fx7+fx8) }\n",
    "* Area of Trapezoid = h/2 * { fx0 + 2fx1 + 2fx2 + 2fx3 + 2fx4 + 2fx5 + 2fx6 + 2fx7 + fx8 }\n",
    "\n",
    "\n",
    "* **** \n",
    "* **** \n",
    "* **** \n",
    "* **https://github.com/smycynek/area_under_curve [AUC module on GitHub]**"
   ]
  },
  {
   "cell_type": "code",
   "execution_count": 87,
   "metadata": {},
   "outputs": [
    {
     "name": "stdout",
     "output_type": "stream",
     "text": [
      "Enter upper limit: 2\n",
      "Enter lower limit: 0\n",
      "Enter no of trapezoid: 3\n",
      "f 0 0\n",
      "m 0.6666666666666666 0.8888888888888888\n",
      "m 1.3333333333333333 3.5555555555555554\n",
      "l 2 4\n",
      "Area is 2.814814814814815\n"
     ]
    }
   ],
   "source": [
    "up_limit = int(input('Enter upper limit: '))\n",
    "lo_limit = int(input('Enter lower limit: '))\n",
    "n_trapezoid = int(input('Enter no of trapezoid: '))\n",
    "h = (up_limit-lo_limit)/n_trapezoid\n",
    "ifx_sum = 0\n",
    "l = [0,(2/3),(4/3),2]\n",
    "p=list()\n",
    "for a in range(0,n_trapezoid+1):\n",
    "    if (a==0): \n",
    "        x = l[a]\n",
    "        ifx = x**2\n",
    "        ifx_sum += ifx\n",
    "        p.append(ifx)\n",
    "        print('f',x,ifx)\n",
    "    elif (a==n_trapezoid):\n",
    "        x = l[-1]\n",
    "        ifx = x**2\n",
    "        ifx_sum += ifx\n",
    "        p.append(ifx)\n",
    "        print('l',x,ifx)\n",
    "    else:\n",
    "        x = l[a]\n",
    "        ifx = x**2\n",
    "        ifx_sum += (2*ifx)  \n",
    "        p.append(2*ifx)\n",
    "        print('m',x,2*ifx)\n",
    "        \n",
    "# print(h)\n",
    "AOT = (h/2) * (ifx_sum)\n",
    "# print(ifx_sum)\n",
    "print(\"Area is\",AOT) \n",
    "# print(h/2)\n",
    "# print(p)\n",
    "\n"
   ]
  },
  {
   "cell_type": "code",
   "execution_count": 88,
   "metadata": {},
   "outputs": [
    {
     "name": "stdout",
     "output_type": "stream",
     "text": [
      "Enter upper limit: 2\n",
      "Enter lower limit: 0\n",
      "Enter no of trapezoid: 3\n",
      "Area is 2.814814814814815\n"
     ]
    }
   ],
   "source": [
    "up_limit = int(input('Enter upper limit: '))\n",
    "lo_limit = int(input('Enter lower limit: '))\n",
    "n_trapezoid = int(input('Enter no of trapezoid: '))\n",
    "h = (up_limit-lo_limit)/n_trapezoid\n",
    "ifx_sum = 0\n",
    "l = [0,(2/3),(4/3),2]\n",
    "for a in range(0,n_trapezoid+1):\n",
    "    if (a==0) or (a==n_trapezoid): \n",
    "        x = l[a]\n",
    "        ifx = x**2\n",
    "        ifx_sum += ifx\n",
    "    else:\n",
    "        x = l[a]\n",
    "        ifx = x**2\n",
    "        ifx_sum += (2*ifx)  \n",
    "        \n",
    "AOT = (h/2) * (ifx_sum)\n",
    "print(\"Area is\",AOT) "
   ]
  },
  {
   "cell_type": "markdown",
   "metadata": {},
   "source": [
    "#  Using Numpy "
   ]
  },
  {
   "cell_type": "code",
   "execution_count": null,
   "metadata": {},
   "outputs": [],
   "source": [
    "import math\n",
    "import numpy as np\n",
    "up_limit = int(input('Enter upper limit: '))\n",
    "lo_limit = int(input('Enter lower limit: '))\n",
    "n_trapezoid = int(input('Enter no of trapezoid: '))\n",
    "h = (up_limit-lo_limit)/n_trapezoid\n",
    "ifx_sum = 0\n",
    "l = np.linspace(up_limit,lo_limit,n_trapezoid+1)\n",
    "for a in range(0,n_trapezoid+1):\n",
    "    if (a==0) or (a==n_trapezoid): \n",
    "        x = l[a]\n",
    "        ifx = math.sqrt(1 + x**2)\n",
    "        ifx_sum += ifx\n",
    "    else:\n",
    "        x = l[a]\n",
    "        ifx = math.sqrt(1 + x**2)\n",
    "        ifx_sum += (2*ifx)  \n",
    "        \n",
    "AOT = (h/2) * (ifx_sum)\n",
    "print(\"Area is\",AOT) "
   ]
  },
  {
   "cell_type": "code",
   "execution_count": null,
   "metadata": {},
   "outputs": [],
   "source": []
  },
  {
   "cell_type": "code",
   "execution_count": 112,
   "metadata": {},
   "outputs": [
    {
     "data": {
      "text/plain": [
       "0.2"
      ]
     },
     "execution_count": 112,
     "metadata": {},
     "output_type": "execute_result"
    }
   ],
   "source": [
    "(1-0)/float(5)"
   ]
  },
  {
   "cell_type": "code",
   "execution_count": 114,
   "metadata": {},
   "outputs": [
    {
     "data": {
      "text/plain": [
       "[1, 2.8, 4.6, 6.3999999999999995, 10]"
      ]
     },
     "execution_count": 114,
     "metadata": {},
     "output_type": "execute_result"
    }
   ],
   "source": [
    "def (low,up,leng):\n",
    "    list = []\n",
    "    step = (up - low) / float(leng)\n",
    "    for i in range(leng-1):\n",
    "        list.append(low)\n",
    "        low = low + step\n",
    "    list.append(up)\n",
    "    return list\n",
    "(1,10,5)"
   ]
  },
  {
   "cell_type": "code",
   "execution_count": null,
   "metadata": {},
   "outputs": [],
   "source": []
  },
  {
   "cell_type": "code",
   "execution_count": 109,
   "metadata": {},
   "outputs": [
    {
     "data": {
      "text/plain": [
       "[-4, -3, -2, -1, 0, 1, 2]"
      ]
     },
     "execution_count": 109,
     "metadata": {},
     "output_type": "execute_result"
    }
   ],
   "source": [
    "def frange(start, stop, step=1):\n",
    "    i = start\n",
    "    while i < stop:\n",
    "        yield i\n",
    "        i += step\n",
    "        \n",
    "l = list(frange(-4,2+1,1))\n",
    "l"
   ]
  },
  {
   "cell_type": "code",
   "execution_count": 18,
   "metadata": {},
   "outputs": [
    {
     "name": "stdout",
     "output_type": "stream",
     "text": [
      "Enter upper limit: 3\n",
      "Enter lower limit: 0\n",
      "Enter no of trapezoid: 3\n",
      "8\n",
      "4.0\n"
     ]
    }
   ],
   "source": [
    "up_limit = int(input('Enter upper limit: '))\n",
    "lo_limit = int(input('Enter lower limit: '))\n",
    "n_trapezoid = int(input('Enter no of trapezoid: '))\n",
    "h = (up_limit-lo_limit)/n_trapezoid\n",
    "l = [0,1/4,1/2,3/4,1]\n",
    "ifx_sum = 0\n",
    "for a in range(0,n_trapezoid+1):\n",
    "    if (a==0): \n",
    "        x = l[a]\n",
    "        ifx = (x**3/3) + (3*x**2/2) - 10*x\n",
    "        ifx_sum += ifx\n",
    "    elif (a==n_trapezoid+1):\n",
    "        x = l[-1]\n",
    "        ifx = (x**3/3) + (3*x**2/2) - 10*x\n",
    "        ifx_sum += ifx\n",
    "    else:\n",
    "        x = a\n",
    "        ifx = (x**3/3) + (3*x**2/2) - 10*x\n",
    "        ifx_sum += (2*ifx)    \n",
    "AOT = (h/2) * (ifx_sum)\n",
    "print(ifx_sum)\n",
    "print(AOT) \n",
    "\n"
   ]
  },
  {
   "cell_type": "code",
   "execution_count": null,
   "metadata": {},
   "outputs": [],
   "source": []
  },
  {
   "cell_type": "code",
   "execution_count": null,
   "metadata": {},
   "outputs": [],
   "source": []
  },
  {
   "cell_type": "code",
   "execution_count": null,
   "metadata": {},
   "outputs": [],
   "source": []
  },
  {
   "cell_type": "code",
   "execution_count": null,
   "metadata": {},
   "outputs": [],
   "source": []
  },
  {
   "cell_type": "markdown",
   "metadata": {},
   "source": [
    "##  Calculate area under the curve of 3x - x^2"
   ]
  },
  {
   "cell_type": "code",
   "execution_count": 80,
   "metadata": {},
   "outputs": [
    {
     "name": "stdout",
     "output_type": "stream",
     "text": [
      "Enter upper limit: 3\n",
      "Enter lower limit: 0\n",
      "Enter no of trapezoid: 3\n",
      "1.0\n",
      "8\n",
      "Area is 4.0\n"
     ]
    }
   ],
   "source": [
    "up_limit = int(input('Enter upper limit: '))\n",
    "lo_limit = int(input('Enter lower limit: '))\n",
    "n_trapezoid = int(input('Enter no of trapezoid: '))\n",
    "h = (up_limit-lo_limit)/n_trapezoid\n",
    "ifx_sum = 0\n",
    "l = [0,1,2,3]\n",
    "for a in range(0,n_trapezoid+1):\n",
    "    if (a==0): \n",
    "        x = l[a]\n",
    "        ifx = 3*x - x**2\n",
    "        ifx_sum += ifx\n",
    "    elif (a==n_trapezoid):\n",
    "        x = l[-1]\n",
    "        ifx = 3*x - x**2\n",
    "        ifx_sum += ifx\n",
    "    else:\n",
    "        x = l[a]\n",
    "        ifx = 3*x - x**2\n",
    "        ifx_sum += (2*ifx) \n",
    "\n",
    "\n",
    "print(h)\n",
    "AOT = (h/2) * (ifx_sum)\n",
    "print(ifx_sum)\n",
    "print(\"Area is\",AOT) \n",
    "\n",
    "\n"
   ]
  },
  {
   "cell_type": "markdown",
   "metadata": {},
   "source": [
    "## Calculate area under the curve of x^2"
   ]
  },
  {
   "cell_type": "code",
   "execution_count": 81,
   "metadata": {},
   "outputs": [
    {
     "name": "stdout",
     "output_type": "stream",
     "text": [
      "Enter upper limit: d\n"
     ]
    },
    {
     "ename": "ValueError",
     "evalue": "invalid literal for int() with base 10: 'd'",
     "output_type": "error",
     "traceback": [
      "\u001b[1;31m---------------------------------------------------------------------------\u001b[0m",
      "\u001b[1;31mValueError\u001b[0m                                Traceback (most recent call last)",
      "\u001b[1;32m<ipython-input-81-f527569c641c>\u001b[0m in \u001b[0;36m<module>\u001b[1;34m\u001b[0m\n\u001b[1;32m----> 1\u001b[1;33m \u001b[0mup_limit\u001b[0m \u001b[1;33m=\u001b[0m \u001b[0mint\u001b[0m\u001b[1;33m(\u001b[0m\u001b[0minput\u001b[0m\u001b[1;33m(\u001b[0m\u001b[1;34m'Enter upper limit: '\u001b[0m\u001b[1;33m)\u001b[0m\u001b[1;33m)\u001b[0m\u001b[1;33m\u001b[0m\u001b[1;33m\u001b[0m\u001b[0m\n\u001b[0m\u001b[0;32m      2\u001b[0m \u001b[0mlo_limit\u001b[0m \u001b[1;33m=\u001b[0m \u001b[0mint\u001b[0m\u001b[1;33m(\u001b[0m\u001b[0minput\u001b[0m\u001b[1;33m(\u001b[0m\u001b[1;34m'Enter lower limit: '\u001b[0m\u001b[1;33m)\u001b[0m\u001b[1;33m)\u001b[0m\u001b[1;33m\u001b[0m\u001b[1;33m\u001b[0m\u001b[0m\n\u001b[0;32m      3\u001b[0m \u001b[0mn_trapezoid\u001b[0m \u001b[1;33m=\u001b[0m \u001b[0mint\u001b[0m\u001b[1;33m(\u001b[0m\u001b[0minput\u001b[0m\u001b[1;33m(\u001b[0m\u001b[1;34m'Enter no of trapezoid: '\u001b[0m\u001b[1;33m)\u001b[0m\u001b[1;33m)\u001b[0m\u001b[1;33m\u001b[0m\u001b[1;33m\u001b[0m\u001b[0m\n\u001b[0;32m      4\u001b[0m \u001b[0mh\u001b[0m \u001b[1;33m=\u001b[0m \u001b[1;33m(\u001b[0m\u001b[0mup_limit\u001b[0m\u001b[1;33m-\u001b[0m\u001b[0mlo_limit\u001b[0m\u001b[1;33m)\u001b[0m\u001b[1;33m/\u001b[0m\u001b[0mn_trapezoid\u001b[0m\u001b[1;33m\u001b[0m\u001b[1;33m\u001b[0m\u001b[0m\n\u001b[0;32m      5\u001b[0m \u001b[0mifx_sum\u001b[0m \u001b[1;33m=\u001b[0m \u001b[1;36m0\u001b[0m\u001b[1;33m\u001b[0m\u001b[1;33m\u001b[0m\u001b[0m\n",
      "\u001b[1;31mValueError\u001b[0m: invalid literal for int() with base 10: 'd'"
     ]
    }
   ],
   "source": [
    "up_limit = int(input('Enter upper limit: '))\n",
    "lo_limit = int(input('Enter lower limit: '))\n",
    "n_trapezoid = int(input('Enter no of trapezoid: '))\n",
    "h = (up_limit-lo_limit)/n_trapezoid\n",
    "ifx_sum = 0\n",
    "l = [0,2/3,4/3,2]\n",
    "for a in range(0,n_trapezoid+1):\n",
    "    if (a==0): \n",
    "        x = l[a]\n",
    "        ifx = x**2\n",
    "        ifx_sum += ifx\n",
    "    elif (a==n_trapezoid):\n",
    "        x = l[-1]\n",
    "        ifx = x**2\n",
    "        ifx_sum += ifx\n",
    "    else:\n",
    "        x = l[a]\n",
    "        ifx = x**2\n",
    "        ifx_sum += (2*ifx)    \n",
    "        \n",
    "print(h)\n",
    "AOT = (h/2) * (ifx_sum)\n",
    "print(ifx_sum)\n",
    "print(\"Area is\",AOT) \n",
    "print(h/2)\n",
    "\n",
    "\n"
   ]
  },
  {
   "cell_type": "code",
   "execution_count": null,
   "metadata": {},
   "outputs": [],
   "source": []
  },
  {
   "cell_type": "code",
   "execution_count": null,
   "metadata": {},
   "outputs": [],
   "source": []
  },
  {
   "cell_type": "code",
   "execution_count": 86,
   "metadata": {},
   "outputs": [
    {
     "name": "stdout",
     "output_type": "stream",
     "text": [
      "Enter upper limit: 2\n",
      "Enter lower limit: 0\n",
      "Enter no of trapezoid: 3\n",
      "f 0 0\n",
      "m 0.6666666666666666 0.8888888888888888\n",
      "m 1.3333333333333333 3.5555555555555554\n",
      "l 2 4\n",
      "Area is 2.814814814814815\n"
     ]
    }
   ],
   "source": [
    "up_limit = int(input('Enter upper limit: '))\n",
    "lo_limit = int(input('Enter lower limit: '))\n",
    "n_trapezoid = int(input('Enter no of trapezoid: '))\n",
    "h = (up_limit-lo_limit)/n_trapezoid\n",
    "ifx_sum = 0\n",
    "l = [0,(2/3),(4/3),2]\n",
    "p=list()\n",
    "for a in range(0,n_trapezoid+1):\n",
    "    if (a==0): \n",
    "        x = l[a]\n",
    "        ifx = x**2\n",
    "        ifx_sum += ifx\n",
    "        p.append(ifx)\n",
    "        print('f',x,ifx)\n",
    "    elif (a==n_trapezoid):\n",
    "        x = l[-1]\n",
    "        ifx = x**2\n",
    "        ifx_sum += ifx\n",
    "        p.append(ifx)\n",
    "        print('l',x,ifx)\n",
    "    else:\n",
    "        x = l[a]\n",
    "        ifx = x**2\n",
    "        ifx_sum += (2*ifx)  \n",
    "        p.append(2*ifx)\n",
    "        print('m',x,2*ifx)\n",
    "        \n",
    "# print(h)\n",
    "AOT = (h/2) * (ifx_sum)\n",
    "# print(ifx_sum)\n",
    "print(\"Area is\",AOT) \n",
    "# print(h/2)\n",
    "# print(p)\n",
    "\n"
   ]
  },
  {
   "cell_type": "code",
   "execution_count": 97,
   "metadata": {},
   "outputs": [
    {
     "name": "stdout",
     "output_type": "stream",
     "text": [
      "Enter upper limit: 5\n",
      "Enter lower limit: 1\n",
      "Enter no of trapezoid: 8\n",
      "Area is 12.761626507927357\n"
     ]
    }
   ],
   "source": [
    "import math\n",
    "import numpy as np\n",
    "up_limit = int(input('Enter upper limit: '))\n",
    "lo_limit = int(input('Enter lower limit: '))\n",
    "n_trapezoid = int(input('Enter no of trapezoid: '))\n",
    "h = (up_limit-lo_limit)/n_trapezoid\n",
    "ifx_sum = 0\n",
    "l = np.linspace(up_limit,lo_limit,n_trapezoid+1)\n",
    "for a in range(0,n_trapezoid+1):\n",
    "    if (a==0) or (a==n_trapezoid): \n",
    "        x = l[a]\n",
    "        ifx = math.sqrt(1 + x**2)\n",
    "        ifx_sum += ifx\n",
    "    else:\n",
    "        x = l[a]\n",
    "        ifx = math.sqrt(1 + x**2)\n",
    "        ifx_sum += (2*ifx)  \n",
    "        \n",
    "AOT = (h/2) * (ifx_sum)\n",
    "print(\"Area is\",AOT) "
   ]
  },
  {
   "cell_type": "code",
   "execution_count": null,
   "metadata": {},
   "outputs": [],
   "source": []
  }
 ],
 "metadata": {
  "kernelspec": {
   "display_name": "Python 3",
   "language": "python",
   "name": "python3"
  },
  "language_info": {
   "codemirror_mode": {
    "name": "ipython",
    "version": 3
   },
   "file_extension": ".py",
   "mimetype": "text/x-python",
   "name": "python",
   "nbconvert_exporter": "python",
   "pygments_lexer": "ipython3",
   "version": "3.7.1"
  }
 },
 "nbformat": 4,
 "nbformat_minor": 4
}
