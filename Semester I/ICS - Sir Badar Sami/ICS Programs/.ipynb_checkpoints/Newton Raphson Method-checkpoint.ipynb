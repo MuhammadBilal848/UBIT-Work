{
 "cells": [
  {
   "cell_type": "markdown",
   "metadata": {},
   "source": [
    "# Newton Raphson Method\n",
    "* **Pseudo Code**\n",
    "* **1)** input n # starting point\n",
    "* **2)** tolerable error = 0.00000001\n",
    "* **3)** error_term = 0.00000002\n",
    "* **4)** x = n\n",
    "* **5)** while tolerable<|error_term|{\n",
    "* **6)**     fa = x^2 + 3x - 10\n",
    "* **7)**     fda = 2x + 3\n",
    "* **8)**     x1 = x - (fa/fda)  \n",
    "* **9)**     error_term = x1 \n",
    "* **10)**    x = x1}\n",
    "\n"
   ]
  },
  {
   "cell_type": "code",
   "execution_count": 73,
   "metadata": {},
   "outputs": [
    {
     "name": "stdout",
     "output_type": "stream",
     "text": [
      "Enter starting point number: -9250\n",
      "-5.0\n"
     ]
    }
   ],
   "source": [
    "n = float(input('Enter starting point number: '))\n",
    "t_error = 0.00000001\n",
    "error_diff = 0.00000002\n",
    "x = n\n",
    "while t_error<=abs(error_diff):\n",
    "    fa = x**2 + 3*x - 10\n",
    "    fda = 2*x + 3\n",
    "    x1 = x - (fa/fda)\n",
    "    error_diff = x1-x\n",
    "    x = x1\n",
    "print(x)"
   ]
  },
  {
   "cell_type": "code",
   "execution_count": 64,
   "metadata": {},
   "outputs": [
    {
     "name": "stdout",
     "output_type": "stream",
     "text": [
      "Enter starting point number: 76\n",
      "2.0\n"
     ]
    }
   ],
   "source": [
    "def f(x:float)->float: # type hinting\n",
    "    return x**2 + 3*x - 10 \n",
    "def df(x:float)->float:\n",
    "    return 2*x + 3\n",
    "n = float(input('Enter starting point number: '))\n",
    "t_error = 0.00000001\n",
    "error_diff = 0.00000002\n",
    "x = n\n",
    "while t_error<abs(error_diff):\n",
    "    x1 = x - (f(x)/df(x))\n",
    "    error_diff = x1-x\n",
    "    x = x1\n",
    "print(x)"
   ]
  },
  {
   "cell_type": "code",
   "execution_count": null,
   "metadata": {},
   "outputs": [],
   "source": []
  },
  {
   "cell_type": "code",
   "execution_count": null,
   "metadata": {},
   "outputs": [],
   "source": []
  },
  {
   "cell_type": "code",
   "execution_count": null,
   "metadata": {},
   "outputs": [],
   "source": []
  },
  {
   "cell_type": "code",
   "execution_count": null,
   "metadata": {},
   "outputs": [],
   "source": []
  },
  {
   "cell_type": "code",
   "execution_count": null,
   "metadata": {},
   "outputs": [],
   "source": []
  },
  {
   "cell_type": "code",
   "execution_count": null,
   "metadata": {},
   "outputs": [],
   "source": []
  },
  {
   "cell_type": "code",
   "execution_count": null,
   "metadata": {},
   "outputs": [],
   "source": []
  },
  {
   "cell_type": "code",
   "execution_count": 15,
   "metadata": {
    "collapsed": true
   },
   "outputs": [
    {
     "name": "stdout",
     "output_type": "stream",
     "text": [
      "Enter starting point number: 0\n",
      "1e-08 2e-08\n",
      "True\n",
      "0.0 x = n\n",
      "-10.0 fa\n",
      "3.0 fda\n",
      "3.3333333333333335 x = x1\n",
      "3.3333333333333335\n",
      "\n",
      "1e-08 3.3333333333333335\n",
      "True\n",
      "1e-08 3.3333333333333335\n",
      "True\n",
      "3.3333333333333335 x = n\n",
      "11.111111111111114 fa\n",
      "9.666666666666668 fda\n",
      "2.1839080459770113 x = x1\n",
      "1.1494252873563222\n",
      "\n",
      "1e-08 1.1494252873563222\n",
      "True\n",
      "1e-08 1.1494252873563222\n",
      "True\n",
      "2.1839080459770113 x = n\n",
      "1.3211784912141624 fa\n",
      "7.3678160919540225 fda\n",
      "2.004590528448724 x = x1\n",
      "0.17931751752828706\n",
      "\n",
      "1e-08 0.17931751752828706\n",
      "True\n",
      "1e-08 0.17931751752828706\n",
      "True\n",
      "2.004590528448724 x = n\n",
      "0.0321547720925075 fa\n",
      "7.009181056897448 fda\n",
      "2.0000030064783987 x = x1\n",
      "0.0045875219703255254\n",
      "\n",
      "1e-08 0.0045875219703255254\n",
      "True\n",
      "1e-08 0.0045875219703255254\n",
      "True\n",
      "2.0000030064783987 x = n\n",
      "2.1045357829763134e-05 fa\n",
      "7.000006012956797 fda\n",
      "2.0000000000012914 x = x1\n",
      "3.0064771072702e-06\n",
      "\n",
      "1e-08 3.0064771072702e-06\n",
      "True\n",
      "1e-08 3.0064771072702e-06\n",
      "True\n",
      "2.0000000000012914 x = n\n",
      "9.039879955707875e-12 fa\n",
      "7.000000000002583 fda\n",
      "2.0 x = x1\n",
      "1.291411422243982e-12\n",
      "\n",
      "1e-08 1.291411422243982e-12\n",
      "False\n"
     ]
    }
   ],
   "source": [
    "n = float(input('Enter starting point number: '))\n",
    "t_error = 0.00000001\n",
    "error_diff = 0.00000002\n",
    "x = n\n",
    "while t_error<abs(error_diff):\n",
    "    print(t_error,abs(error_diff))    \n",
    "    print(t_error<abs(error_diff))\n",
    "    fa = x**2 + 3*x - 10\n",
    "    fda = 2*x + 3\n",
    "    x1 = x - (fa/fda)\n",
    "    error_diff = x1-x\n",
    "    print(x,'x = n')\n",
    "    x = x1\n",
    "    print(fa,'fa')\n",
    "    print(fda,'fda')\n",
    "    print(x1,'x = x1')\n",
    "    print(abs(error_diff))\n",
    "    print()\n",
    "    print(t_error,abs(error_diff))    \n",
    "    print(t_error<abs(error_diff))\n"
   ]
  },
  {
   "cell_type": "code",
   "execution_count": null,
   "metadata": {},
   "outputs": [],
   "source": [
    "n = float(input('Enter starting point number: '))\n",
    "t_error = 0.00000001\n",
    "error_diff = 0.00000002\n",
    "while t_error<abs(error_diff):\n",
    "    x = n\n",
    "    fa = x**2 + 3*x - 10\n",
    "    fda = 2*x + 3\n",
    "    x1 = n - (fa/fda)\n",
    "    error_diff = x1-x\n",
    "    print(x,'x')\n",
    "    x = x1\n",
    "    print(fa,'fa')\n",
    "    print(fda,'fda')\n",
    "    print(x1,'x1')\n",
    "    print(x,'x')\n",
    "    print(abs(error_diff))\n",
    "    print()\n",
    "    break"
   ]
  },
  {
   "cell_type": "code",
   "execution_count": 16,
   "metadata": {
    "collapsed": true
   },
   "outputs": [
    {
     "name": "stdout",
     "output_type": "stream",
     "text": [
      "Enter starting point number: 0\n",
      "1e-08 2e-08\n",
      "True\n",
      "0.0 x = n\n",
      "-10.0 fa\n",
      "3.0 fda\n",
      "3.3333333333333335 x = x1\n",
      "1e-08 3.3333333333333335\n",
      "True\n",
      "1e-08 3.3333333333333335\n",
      "True\n",
      "3.3333333333333335 x = n\n",
      "11.111111111111114 fa\n",
      "9.666666666666668 fda\n",
      "2.1839080459770113 x = x1\n",
      "1e-08 1.1494252873563222\n",
      "True\n",
      "1e-08 1.1494252873563222\n",
      "True\n",
      "2.1839080459770113 x = n\n",
      "1.3211784912141624 fa\n",
      "7.3678160919540225 fda\n",
      "2.004590528448724 x = x1\n",
      "1e-08 0.17931751752828706\n",
      "True\n",
      "1e-08 0.17931751752828706\n",
      "True\n",
      "2.004590528448724 x = n\n",
      "0.0321547720925075 fa\n",
      "7.009181056897448 fda\n",
      "2.0000030064783987 x = x1\n",
      "1e-08 0.0045875219703255254\n",
      "True\n",
      "1e-08 0.0045875219703255254\n",
      "True\n",
      "2.0000030064783987 x = n\n",
      "2.1045357829763134e-05 fa\n",
      "7.000006012956797 fda\n",
      "2.0000000000012914 x = x1\n",
      "1e-08 3.0064771072702e-06\n",
      "True\n",
      "1e-08 3.0064771072702e-06\n",
      "True\n",
      "2.0000000000012914 x = n\n",
      "9.039879955707875e-12 fa\n",
      "7.000000000002583 fda\n",
      "2.0 x = x1\n",
      "1e-08 1.291411422243982e-12\n",
      "False\n"
     ]
    }
   ],
   "source": [
    "n = float(input('Enter starting point number: '))\n",
    "t_error = 0.00000001\n",
    "error_diff = 0.00000002\n",
    "x = n\n",
    "while t_error<abs(error_diff):\n",
    "    print(t_error,abs(error_diff))    \n",
    "    print(t_error<abs(error_diff))\n",
    "    fa = x**2 + 3*x - 10\n",
    "    fda = 2*x + 3\n",
    "    x1 = x - (fa/fda)\n",
    "    error_diff = x1-x\n",
    "    print(x,'x = n')\n",
    "    x = x1\n",
    "    print(fa,'fa')\n",
    "    print(fda,'fda')\n",
    "    print(x1,'x = x1')\n",
    "    print(t_error,abs(error_diff))    \n",
    "    print(t_error<abs(error_diff))\n"
   ]
  },
  {
   "cell_type": "code",
   "execution_count": null,
   "metadata": {},
   "outputs": [],
   "source": []
  },
  {
   "cell_type": "code",
   "execution_count": 42,
   "metadata": {},
   "outputs": [
    {
     "data": {
      "text/plain": [
       "(98, 21)"
      ]
     },
     "execution_count": 42,
     "metadata": {},
     "output_type": "execute_result"
    }
   ],
   "source": [
    "def f(x):\n",
    "    return x**2 + 3*x - 10\n",
    "def df(x):\n",
    "    return 2*x + 3\n",
    "\n",
    "f(9),df(9)"
   ]
  },
  {
   "cell_type": "code",
   "execution_count": 9,
   "metadata": {},
   "outputs": [
    {
     "name": "stdout",
     "output_type": "stream",
     "text": [
      "Enter starting point number: 10000000\n",
      "2.0\n"
     ]
    }
   ],
   "source": [
    "n = float(input('Enter starting point number: '))\n",
    "t_error = 0.00000001\n",
    "error_diff = 0.00000002\n",
    "x = n\n",
    "while t_error<abs(error_diff):\n",
    "    x1 = x - (f(x)/df(x))\n",
    "    error_diff = x1-x\n",
    "    x = x1\n",
    "print(x)"
   ]
  },
  {
   "cell_type": "code",
   "execution_count": 25,
   "metadata": {},
   "outputs": [
    {
     "name": "stdout",
     "output_type": "stream",
     "text": [
      "Enter starting point number: 7\n",
      "Loop initiated 0 time\n",
      "7.0 old\n",
      "60.0 fa\n",
      "17.0 fda\n",
      "3.4705882352941178 new\n",
      "\n",
      "\n",
      "Loop initiated 1 time\n",
      "3.4705882352941178 old\n",
      "12.456747404844293 fa\n",
      "9.941176470588236 fda\n",
      "2.217542638357118 new\n",
      "\n",
      "\n",
      "Loop initiated 2 time\n",
      "2.217542638357118 old\n",
      "1.5701232680032042 fa\n",
      "7.435085276714236 fda\n",
      "2.0063650647897195 new\n",
      "\n",
      "\n",
      "Loop initiated 3 time\n",
      "2.0063650647897195 old\n",
      "0.04459596757781448 fa\n",
      "7.012730129579439 fda\n",
      "2.0000057772150117 new\n",
      "\n",
      "\n",
      "Loop initiated 4 time\n",
      "2.0000057772150117 old\n",
      "4.044053845753126e-05 fa\n",
      "7.000011554430023 fda\n",
      "2.000000000004768 new\n",
      "\n",
      "\n",
      "Loop initiated 5 time\n",
      "2.000000000004768 old\n",
      "3.3377745012330706e-11 fa\n",
      "7.000000000009536 fda\n",
      "2.0 new\n",
      "\n",
      "\n",
      "2.0\n"
     ]
    }
   ],
   "source": [
    "n = float(input('Enter starting point number: '))\n",
    "t_error = 0.00000001\n",
    "error_diff = 0.00000002\n",
    "x = n\n",
    "ini = 0\n",
    "while t_error<abs(error_diff):\n",
    "    print(f'Loop initiated {ini} time')\n",
    "    fa = x**2 + 3*x - 10\n",
    "    fda = 2*x + 3\n",
    "    print(x,'old')\n",
    "    x1 = x - (fa/fda)\n",
    "    error_diff = x1-x\n",
    "    x = x1\n",
    "    print(fa,'fa')\n",
    "    print(fda,'fda')\n",
    "    print(x,'new')\n",
    "    ini += 1\n",
    "    print()\n",
    "    print()\n",
    "    \n",
    "print(x)"
   ]
  },
  {
   "cell_type": "code",
   "execution_count": 37,
   "metadata": {},
   "outputs": [
    {
     "name": "stdout",
     "output_type": "stream",
     "text": [
      "Enter starting point number: 9\n",
      "Loop initiated 0 time\n",
      "9.0 old\n",
      "98.0 fa\n",
      "21.0 fda\n",
      "4.333333333333333 new\n",
      "\n",
      "\n",
      "Loop initiated 1 time\n",
      "4.333333333333333 old\n",
      "21.777777777777775 fa\n",
      "11.666666666666666 fda\n",
      "2.466666666666667 new\n",
      "\n",
      "\n",
      "Loop initiated 2 time\n",
      "2.466666666666667 old\n",
      "3.4844444444444456 fa\n",
      "7.933333333333334 fda\n",
      "2.0274509803921568 new\n",
      "\n",
      "\n",
      "Loop initiated 3 time\n",
      "2.0274509803921568 old\n",
      "0.1929104190695874 fa\n",
      "7.0549019607843135 fda\n",
      "2.000106813153277 new\n",
      "\n",
      "\n",
      "Loop initiated 4 time\n",
      "2.000106813153277 old\n",
      "0.000747703481987827 fa\n",
      "7.000213626306554 fda\n",
      "2.0000000016298145 new\n",
      "\n",
      "\n",
      "Loop initiated 5 time\n",
      "2.0000000016298145 old\n",
      "1.1408701539039612e-08 fa\n",
      "7.000000003259629 fda\n",
      "2.0 new\n",
      "\n",
      "\n",
      "2.0\n"
     ]
    }
   ],
   "source": [
    "n = float(input('Enter starting point number: '))\n",
    "t_error = 0.00000001\n",
    "error_diff = 0.00000002\n",
    "x = n\n",
    "ini = 0\n",
    "while t_error<abs(error_diff):\n",
    "    print(f'Loop initiated {ini} time')\n",
    "    fa = x**2 + 3*x - 10\n",
    "    fda = 2*x + 3\n",
    "    print(x,'old')\n",
    "    x1 = x - (fa/fda)\n",
    "    error_diff = x1-x\n",
    "    x = x1\n",
    "    print(fa,'fa')\n",
    "    print(fda,'fda')\n",
    "    print(x,'new')\n",
    "    ini += 1\n",
    "    print()\n",
    "    print()\n",
    "    \n",
    "print(x)"
   ]
  },
  {
   "cell_type": "code",
   "execution_count": null,
   "metadata": {},
   "outputs": [],
   "source": []
  }
 ],
 "metadata": {
  "kernelspec": {
   "display_name": "Python 3",
   "language": "python",
   "name": "python3"
  },
  "language_info": {
   "codemirror_mode": {
    "name": "ipython",
    "version": 3
   },
   "file_extension": ".py",
   "mimetype": "text/x-python",
   "name": "python",
   "nbconvert_exporter": "python",
   "pygments_lexer": "ipython3",
   "version": "3.7.1"
  }
 },
 "nbformat": 4,
 "nbformat_minor": 4
}
