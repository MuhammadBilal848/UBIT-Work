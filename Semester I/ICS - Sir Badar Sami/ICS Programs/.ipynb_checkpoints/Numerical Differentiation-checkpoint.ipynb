{
 "cells": [
  {
   "cell_type": "markdown",
   "metadata": {},
   "source": [
    "# Program To Find the Slope of a Tangent\n",
    "* Newton-Forward Formula = y(n)-y(n+1) / x(n)-x(n+1)\n",
    "* Newton-Backward Formula = y(n)-y(n-1) / x(n)-x(n-1)\n",
    "* Central Formula = Newton-Forward-Backward Formula = y(n-1)-y(n+1) / x(n-1)-x(n+1)"
   ]
  },
  {
   "cell_type": "markdown",
   "metadata": {},
   "source": [
    "# Newton-Forward Formula\n",
    "* **Formula** = y(n)-y(n+1) / x(n)-x(n+1)"
   ]
  },
  {
   "cell_type": "code",
   "execution_count": 10,
   "metadata": {},
   "outputs": [
    {
     "name": "stdout",
     "output_type": "stream",
     "text": [
      "Enter value for x1: 0\n",
      "3.000000070585429\n"
     ]
    }
   ],
   "source": [
    "x1 = float(input('Enter value for x1: '))\n",
    "small_val = 0.00000001\n",
    "x2 = x1 + small_val\n",
    "x = x1\n",
    "y1 = x**2 + 3*x -10\n",
    "x = x2\n",
    "y2 = x**2 + 3*x -10\n",
    "m = (y2-y1)/(x2-x1)\n",
    "print(m)"
   ]
  },
  {
   "cell_type": "markdown",
   "metadata": {},
   "source": [
    "# Newton-Backward Formula \n",
    "* **Formula** = y(n)-y(n-1) / x(n)-x(n-1)"
   ]
  },
  {
   "cell_type": "code",
   "execution_count": 13,
   "metadata": {},
   "outputs": [
    {
     "name": "stdout",
     "output_type": "stream",
     "text": [
      "Enter value for x1: 0\n",
      "3.000000070585429\n"
     ]
    }
   ],
   "source": [
    "x1 = float(input('Enter value for x1: '))\n",
    "small_val = 0.00000001\n",
    "x2 = x1 - small_val\n",
    "x = x1\n",
    "y1 = x**2 + 3*x -10\n",
    "x = x2\n",
    "y2 = x**2 + 3*x -10\n",
    "m = (y2-y1)/(x2-x1)\n",
    "print(m)"
   ]
  },
  {
   "cell_type": "markdown",
   "metadata": {},
   "source": [
    "# Central Formula\n",
    "* **Formula** = y(n-1)-y(n+1) / x(n-1)-x(n+1)"
   ]
  },
  {
   "cell_type": "code",
   "execution_count": null,
   "metadata": {},
   "outputs": [],
   "source": [
    "x1 = float(input('Enter value for x1: '))\n",
    "small_val = 0.00000001\n",
    "x1 = x1 + small_val\n",
    "x2 = x1 - small_val\n",
    "x = x1\n",
    "y1 = x**2 + 3*x -10\n",
    "x = x2\n",
    "y2 = x**2 + 3*x -10\n",
    "m = (y2-y1)/(x2-x1)\n",
    "print(m)"
   ]
  }
 ],
 "metadata": {
  "kernelspec": {
   "display_name": "Python 3",
   "language": "python",
   "name": "python3"
  },
  "language_info": {
   "codemirror_mode": {
    "name": "ipython",
    "version": 3
   },
   "file_extension": ".py",
   "mimetype": "text/x-python",
   "name": "python",
   "nbconvert_exporter": "python",
   "pygments_lexer": "ipython3",
   "version": "3.7.1"
  }
 },
 "nbformat": 4,
 "nbformat_minor": 4
}
