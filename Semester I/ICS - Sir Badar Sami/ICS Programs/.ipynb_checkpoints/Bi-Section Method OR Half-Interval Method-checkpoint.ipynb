{
 "cells": [
  {
   "cell_type": "markdown",
   "metadata": {},
   "source": [
    "# Bi-Section Method "
   ]
  },
  {
   "cell_type": "code",
   "execution_count": 1,
   "metadata": {},
   "outputs": [
    {
     "name": "stdout",
     "output_type": "stream",
     "text": [
      "Enter starting point: 0\n",
      "Enter Ending point: 6\n",
      "2.0\n"
     ]
    }
   ],
   "source": [
    "a = float(input('Enter starting point: '))\n",
    "b = float(input('Enter Ending point: '))\n",
    "x = a\n",
    "ya = x**2 + 3*x -10\n",
    "x = b\n",
    "yb = x**2 + 3*x -10\n",
    "y = ya*yb\n",
    "if (y>0):\n",
    "    print('Solution doest not exist.')\n",
    "else:\n",
    "    while True:\n",
    "        c = (a+b)/2\n",
    "        x = c\n",
    "        yc = x**2 + 3*x -10 # -6 , \n",
    "        if yc==0:\n",
    "            break\n",
    "        if (ya*yc)>0: # a(-8)=30 , c(-6)=8 , b(-4)=-6\n",
    "            a = c\n",
    "# a(-6) =8  ,c(-5)=0  , b(-4) = -6\n",
    "        else:\n",
    "            b = c\n",
    "    print(c)"
   ]
  },
  {
   "cell_type": "code",
   "execution_count": null,
   "metadata": {},
   "outputs": [],
   "source": []
  }
 ],
 "metadata": {
  "kernelspec": {
   "display_name": "Python 3",
   "language": "python",
   "name": "python3"
  },
  "language_info": {
   "codemirror_mode": {
    "name": "ipython",
    "version": 3
   },
   "file_extension": ".py",
   "mimetype": "text/x-python",
   "name": "python",
   "nbconvert_exporter": "python",
   "pygments_lexer": "ipython3",
   "version": "3.7.1"
  }
 },
 "nbformat": 4,
 "nbformat_minor": 2
}
